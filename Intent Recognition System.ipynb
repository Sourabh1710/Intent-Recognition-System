{
 "cells": [
  {
   "cell_type": "code",
   "execution_count": null,
   "id": "75bc114a-6505-44c1-bd5c-5b853807fa0c",
   "metadata": {},
   "outputs": [],
   "source": [
    "# Import necessary libraries\n",
    "import numpy as np        # For numerical operations\n",
    "import json               # For handling JSON data\n",
    "import re                 # For regular expressions\n",
    "import tensorflow as tf   # For building and training the machine learning model\n",
    "import random             # For random operations\n",
    "import spacy              # For natural language processing\n",
    "\n",
    "# Load the English NLP model from spaCy\n",
    "nlp = spacy.load('en_core_web_sm')"
   ]
  },
  {
   "cell_type": "code",
   "execution_count": null,
   "id": "76bcfb55-e66c-4811-9960-b70038cc837a",
   "metadata": {},
   "outputs": [],
   "source": []
  }
 ],
 "metadata": {
  "kernelspec": {
   "display_name": "Python 3 (ipykernel)",
   "language": "python",
   "name": "python3"
  },
  "language_info": {
   "codemirror_mode": {
    "name": "ipython",
    "version": 3
   },
   "file_extension": ".py",
   "mimetype": "text/x-python",
   "name": "python",
   "nbconvert_exporter": "python",
   "pygments_lexer": "ipython3",
   "version": "3.11.0"
  }
 },
 "nbformat": 4,
 "nbformat_minor": 5
}
